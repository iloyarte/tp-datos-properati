{
 "cells": [
  {
   "cell_type": "code",
   "execution_count": 2,
   "metadata": {
    "collapsed": true
   },
   "outputs": [],
   "source": [
    "import numpy as np\n",
    "import pandas as pd\n",
    "\n",
    "# plots\n",
    "import matplotlib.pyplot as plt\n",
    "import seaborn as sns\n",
    "%matplotlib inline"
   ]
  },
  {
   "cell_type": "markdown",
   "metadata": {},
   "source": [
    "# Prueba del set de datos de 6 meses"
   ]
  },
  {
   "cell_type": "code",
   "execution_count": null,
   "metadata": {
    "collapsed": true
   },
   "outputs": [],
   "source": [
    "six_months = pd.read_csv(\"properati-AR-2017-08-01-properties-sell-six_months.csv\")"
   ]
  },
  {
   "cell_type": "code",
   "execution_count": null,
   "metadata": {
    "collapsed": true
   },
   "outputs": [],
   "source": [
    "# Convierto la columna de fecha en un datetime.\n",
    "six_months.created_on = pd.to_datetime(six_months.created_on)"
   ]
  },
  {
   "cell_type": "code",
   "execution_count": null,
   "metadata": {
    "collapsed": true
   },
   "outputs": [],
   "source": [
    "six_months.sample(1)"
   ]
  },
  {
   "cell_type": "code",
   "execution_count": null,
   "metadata": {},
   "outputs": [],
   "source": [
    "six_months.dtypes"
   ]
  },
  {
   "cell_type": "code",
   "execution_count": null,
   "metadata": {},
   "outputs": [],
   "source": [
    "six_months.head(10)"
   ]
  },
  {
   "cell_type": "code",
   "execution_count": null,
   "metadata": {
    "collapsed": true
   },
   "outputs": [],
   "source": [
    "six_months.count()"
   ]
  },
  {
   "cell_type": "code",
   "execution_count": null,
   "metadata": {},
   "outputs": [],
   "source": [
    "len(six_months.id.unique())\n",
    "# La cantidad es la misma, no hay registros repetidos."
   ]
  },
  {
   "cell_type": "code",
   "execution_count": null,
   "metadata": {},
   "outputs": [],
   "source": [
    "six_months.state_name.unique()"
   ]
  },
  {
   "cell_type": "code",
   "execution_count": null,
   "metadata": {
    "collapsed": true
   },
   "outputs": [],
   "source": [
    "# Filtro los resultados que no son de caba.\n",
    "six_months = six_months.loc[six_months['state_name'].isin(['Capital Federal', 'Bs.As. G.B.A. Zona Sur','Bs.As. G.B.A. Zona Norte','Bs.As. G.B.A. Zona Oeste'])]"
   ]
  },
  {
   "cell_type": "code",
   "execution_count": null,
   "metadata": {},
   "outputs": [],
   "source": [
    "six_months.state_name.unique()"
   ]
  },
  {
   "cell_type": "code",
   "execution_count": null,
   "metadata": {
    "collapsed": true
   },
   "outputs": [],
   "source": [
    "state_grouped = six_months.groupby('state_name')"
   ]
  },
  {
   "cell_type": "markdown",
   "metadata": {},
   "source": [
    "## Grupos por barrio"
   ]
  },
  {
   "cell_type": "code",
   "execution_count": null,
   "metadata": {},
   "outputs": [],
   "source": [
    "six_months.property_type.unique()"
   ]
  },
  {
   "cell_type": "code",
   "execution_count": null,
   "metadata": {
    "collapsed": true
   },
   "outputs": [],
   "source": [
    "grouped_by_type = six_months.groupby('property_type')"
   ]
  },
  {
   "cell_type": "code",
   "execution_count": null,
   "metadata": {},
   "outputs": [],
   "source": [
    "# Price mean by property type\n",
    "price_mean = grouped_by_type.agg(['mean'])\n",
    "price_mean['price'].sort_values('mean', ascending=False)[0:19].plot(kind='bar',figsize=(14,4));"
   ]
  },
  {
   "cell_type": "code",
   "execution_count": null,
   "metadata": {},
   "outputs": [],
   "source": [
    "price_mean.head()"
   ]
  },
  {
   "cell_type": "code",
   "execution_count": null,
   "metadata": {
    "collapsed": true
   },
   "outputs": [],
   "source": [
    "grouped_by_type.describe()\n",
    "phs = grouped_by_type.get_group('PH')\n",
    "apartments = grouped_by_type.get_group('apartment')\n",
    "houses = grouped_by_type.get_group('house')\n",
    "stores = grouped_by_type.get_group('store')"
   ]
  },
  {
   "cell_type": "code",
   "execution_count": null,
   "metadata": {},
   "outputs": [],
   "source": [
    "phs.head()"
   ]
  },
  {
   "cell_type": "markdown",
   "metadata": {},
   "source": [
    "# Dataset grande, mergeado desde el principio hasta abril 2017"
   ]
  },
  {
   "cell_type": "code",
   "execution_count": 3,
   "metadata": {},
   "outputs": [],
   "source": [
    "big_dataset = pd.read_csv('mergeGrande.csv', low_memory=False)"
   ]
  },
  {
   "cell_type": "code",
   "execution_count": 4,
   "metadata": {},
   "outputs": [
    {
     "data": {
      "text/plain": [
       "Unnamed: 0                      int64\n",
       "country_name                   object\n",
       "created_on                     object\n",
       "currency                       object\n",
       "description                    object\n",
       "expenses                       object\n",
       "extra                          object\n",
       "floor                         float64\n",
       "geonames_id                   float64\n",
       "id                             object\n",
       "image_thumbnail                object\n",
       "lat                           float64\n",
       "lat-lon                        object\n",
       "lon                           float64\n",
       "operation                      object\n",
       "place_name                     object\n",
       "place_with_parent_names        object\n",
       "price                         float64\n",
       "price_aprox_local_currency    float64\n",
       "price_aprox_usd               float64\n",
       "price_per_m2                  float64\n",
       "price_usd_per_m2              float64\n",
       "properati_url                  object\n",
       "property_type                  object\n",
       "rooms                         float64\n",
       "state_name                     object\n",
       "surface_covered_in_m2         float64\n",
       "surface_in_m2                 float64\n",
       "surface_total_in_m2           float64\n",
       "title                          object\n",
       "dtype: object"
      ]
     },
     "execution_count": 4,
     "metadata": {},
     "output_type": "execute_result"
    }
   ],
   "source": [
    "big_dataset.dtypes"
   ]
  },
  {
   "cell_type": "code",
   "execution_count": 5,
   "metadata": {},
   "outputs": [
    {
     "data": {
      "text/plain": [
       "466266"
      ]
     },
     "execution_count": 5,
     "metadata": {},
     "output_type": "execute_result"
    }
   ],
   "source": [
    "len(big_dataset)"
   ]
  },
  {
   "cell_type": "code",
   "execution_count": 31,
   "metadata": {},
   "outputs": [],
   "source": [
    "# filtro los resultados con precio 0\n",
    "big_dataset = big_dataset.loc[big_dataset['price'] != 0, :]"
   ]
  },
  {
   "cell_type": "code",
   "execution_count": 32,
   "metadata": {},
   "outputs": [
    {
     "data": {
      "text/plain": [
       "place_name\n",
       "Área de Promoción El Triángulo            0\n",
       "Country La Tradición                      0\n",
       "Cruce Castelar                            0\n",
       "Barrio Cerrado \"Los Faroles\"              0\n",
       "Barrio Cerrado \"Los Eucaliptus\"           0\n",
       "Distrito Audiovisual                      0\n",
       "Barrio Cerrado \"Las Orquídeas\"            0\n",
       "Barrio Cerrado \"Las Araucarias\"           0\n",
       "Distrito del Diseño                       0\n",
       "Barrio Cerrado \"La Rinconada\"             0\n",
       "Barrio Cerrado \"La Retama\"                0\n",
       "San Lorenzo                               0\n",
       "San José                                  0\n",
       "Barrio Cerrado \"La Legua\"                 0\n",
       "Barrio Cerrado \"La Emilia\"                0\n",
       "El Ensueño                                0\n",
       "Barrio Cerrado \"La Chacra\"                0\n",
       "Barrio Cerrado \"La Arboleda\"              0\n",
       "Barrio Cerrado \"Jacarandá\"                0\n",
       "Barrio Cerrado \"El Casco de Moreno\"       0\n",
       "Country El Ombú                           0\n",
       "Barrio Cerrado Lagos del Norte            0\n",
       "Club Newman                               0\n",
       "Barrio El Golf - Nordelta                 0\n",
       "Barrio Privado San Lucas                  0\n",
       "Barrio Privado Puerto Trinidad            0\n",
       "Villa Fiorito                             0\n",
       "Barrio Santa Elena - Pilar del Este       0\n",
       "Barrio Privado Cruz del Sur               0\n",
       "Barrio-Portezuelo-Nordelta                0\n",
       "                                       ... \n",
       "San Cristobal                          1172\n",
       "Nuñez                                  1183\n",
       "San Miguel                             1210\n",
       "San Fernando                           1251\n",
       "Vicente López                          1273\n",
       "Balvanera                              1342\n",
       "Caseros                                1433\n",
       "Capital Federal                        1491\n",
       "Morón                                  1517\n",
       "La Plata                               1544\n",
       "Flores                                 1730\n",
       "Boedo                                  1843\n",
       "Almagro                                1944\n",
       "Recoleta                               1951\n",
       "Villa Urquiza                          1964\n",
       "Haedo                                  2008\n",
       "Martínez                               2011\n",
       "San Isidro                             2034\n",
       "Barrio Norte                           2046\n",
       "Ituzaingó                              2057\n",
       "Villa Crespo                           2176\n",
       "Benavidez                              2186\n",
       "Olivos                                 2822\n",
       "Pilar                                  3152\n",
       "Caballito                              3284\n",
       "Belgrano                               3801\n",
       "Palermo                                4168\n",
       "Tigre                                  4449\n",
       "Ramos Mejía                            4704\n",
       "Nordelta                               5423\n",
       "Name: id, Length: 638, dtype: int64"
      ]
     },
     "execution_count": 32,
     "metadata": {},
     "output_type": "execute_result"
    }
   ],
   "source": [
    "grouped_by_place = big_dataset.groupby('place_name')\n",
    "counts = grouped_by_place.count()\n",
    "counts['id'].sort_values(ascending=True)"
   ]
  },
  {
   "cell_type": "code",
   "execution_count": 33,
   "metadata": {},
   "outputs": [],
   "source": [
    "fr = big_dataset.groupby('place_name').agg(['mean','count'])\n",
    "names = fr.loc[fr['price']['count'] <= 14, :]['price']['mean'].keys()"
   ]
  },
  {
   "cell_type": "code",
   "execution_count": 34,
   "metadata": {},
   "outputs": [
    {
     "data": {
      "text/plain": [
       "[' los alamos',\n",
       " '9 de Abril',\n",
       " 'Aero Country Club',\n",
       " 'Aeropuerto Internacional Ezeiza',\n",
       " 'Alejandro Petión',\n",
       " 'Altos de Hudson I',\n",
       " 'Altos de Matheu',\n",
       " 'Armenia Country Club',\n",
       " 'Bahía del Sol',\n",
       " 'Barrio Acacias',\n",
       " 'Barrio Cerrado \"Altos de Pacheco\"',\n",
       " 'Barrio Cerrado \"Altos de la Horqueta\"',\n",
       " 'Barrio Cerrado \"Ayres Plaza\"',\n",
       " 'Barrio Cerrado \"Bella Vista Chico\"',\n",
       " 'Barrio Cerrado \"Boulevares\"',\n",
       " 'Barrio Cerrado \"Buen Retiro\"',\n",
       " 'Barrio Cerrado \"Buenos Aires Village\"',\n",
       " 'Barrio Cerrado \"El Atardecer\"',\n",
       " 'Barrio Cerrado \"El Casco de Moreno\"',\n",
       " 'Barrio Cerrado \"El Estribo\"',\n",
       " 'Barrio Cerrado \"Isla del Sol\"',\n",
       " 'Barrio Cerrado \"Jacarandá\"',\n",
       " 'Barrio Cerrado \"La Arboleda\"',\n",
       " 'Barrio Cerrado \"La Cautiva del Pilar\"',\n",
       " 'Barrio Cerrado \"La Chacra\"',\n",
       " 'Barrio Cerrado \"La Damasia\"',\n",
       " 'Barrio Cerrado \"La Emilia\"',\n",
       " 'Barrio Cerrado \"La Laguna\"',\n",
       " 'Barrio Cerrado \"La Legua\"',\n",
       " 'Barrio Cerrado \"La Merced\"',\n",
       " 'Barrio Cerrado \"La Montura\"',\n",
       " 'Barrio Cerrado \"La Otilia\"',\n",
       " 'Barrio Cerrado \"La Reserva\"',\n",
       " 'Barrio Cerrado \"La Retama\"',\n",
       " 'Barrio Cerrado \"La Rinconada\"',\n",
       " 'Barrio Cerrado \"La Tranquera\"',\n",
       " 'Barrio Cerrado \"Las Araucarias\"',\n",
       " 'Barrio Cerrado \"Las Margaritas\"',\n",
       " 'Barrio Cerrado \"Las Victorias\"',\n",
       " 'Barrio Cerrado \"Los Alcanfores\"',\n",
       " 'Barrio Cerrado \"Los Ceibos\"',\n",
       " 'Barrio Cerrado \"Los Condes\"',\n",
       " 'Barrio Cerrado \"Los Eucaliptus\"',\n",
       " 'Barrio Cerrado \"Los Faroles\"',\n",
       " 'Barrio Cerrado \"Los Fresnos\"',\n",
       " 'Barrio Cerrado \"Los Laureles\"',\n",
       " 'Barrio Cerrado \"Los Potrillos\"',\n",
       " 'Barrio Cerrado \"Los Senderos II\"',\n",
       " 'Barrio Cerrado \"Los Senderos\"',\n",
       " 'Barrio Cerrado \"Los Tacos\"',\n",
       " 'Barrio Cerrado \"Pilar House\"',\n",
       " 'Barrio Cerrado \"Pilar Privado\"',\n",
       " 'Barrio Cerrado \"Soles de Pilar\"',\n",
       " 'Barrio Cerrado \"SpringDale\"',\n",
       " 'Barrio Cerrado \"Tres Horquetas\"',\n",
       " 'Barrio Cerrado Don Joaquín',\n",
       " 'Barrio Cerrado El Lauquén',\n",
       " 'Barrio Cerrado La Colina',\n",
       " 'Barrio Cerrado La Masia',\n",
       " 'Barrio Cerrado Lagos del Norte',\n",
       " 'Barrio Cerrado Las Casuarinas',\n",
       " 'Barrio Cerrado Los Abedules',\n",
       " 'Barrio Cerrado River Oaks',\n",
       " 'Barrio El Golf - Nordelta',\n",
       " 'Barrio El Moro',\n",
       " 'Barrio El Yacht',\n",
       " 'Barrio La Alameda - Nordelta',\n",
       " 'Barrio La Cuesta',\n",
       " 'Barrio La Deseada',\n",
       " 'Barrio Lagos del Golf 2',\n",
       " 'Barrio Las Glorietas - Nordelta',\n",
       " 'Barrio Los Alisos - Nordelta',\n",
       " 'Barrio Los Sauces - Nordelta',\n",
       " 'Barrio Parque Almirante Irízar',\n",
       " 'Barrio Parque Matheu',\n",
       " 'Barrio Privado \"Lomas de Fátima\"',\n",
       " 'Barrio Privado Cruz del Sur',\n",
       " 'Barrio Privado El Resuello',\n",
       " 'Barrio Privado El Rodal',\n",
       " 'Barrio Privado La Campiña',\n",
       " 'Barrio Privado Lagos de Canning',\n",
       " 'Barrio Privado María Eugenia',\n",
       " 'Barrio Privado San Lucas',\n",
       " 'Barrio Privado Santa Rita',\n",
       " 'Barrio Privado Santo Domingo',\n",
       " 'Barrio Residencial Pacheco 1',\n",
       " 'Barrio Residencial Pacheco 2',\n",
       " 'Barrio Residencial Pacheco 2 - Nordelta',\n",
       " 'Barrio San Benito',\n",
       " 'Barrio San Eduardo - Pilar del Este',\n",
       " 'Barrio San Miguel',\n",
       " 'Barrio Santa Elena - Pilar del Este',\n",
       " 'Barrio Santa Guadalupe - Pilar del Este',\n",
       " 'Barrio Vistas',\n",
       " 'Barrio cerrado Camino Real',\n",
       " 'Barrio cerrado La Cascada',\n",
       " 'Barrio cerrado Santa Ana',\n",
       " 'Barrio-Portezuelo-Nordelta',\n",
       " 'Berazategui Oeste',\n",
       " 'Bosques',\n",
       " 'Brickland',\n",
       " 'Buenos Aires Golf Club',\n",
       " 'Campo Grande Country Club',\n",
       " 'Catalinas',\n",
       " 'Chacras de La Trinidad',\n",
       " 'Churruca',\n",
       " 'Club El Carmen - Sector casas',\n",
       " 'Club Newman',\n",
       " 'Club de Campo Las Perdices',\n",
       " 'Club de Campo Manuel Belgrano',\n",
       " 'Complejo de Barrios Privados La Magdalena',\n",
       " 'Condominio \"Las Mercedes\"',\n",
       " 'Country Club Las lajas',\n",
       " 'Country Club Santa Silvina',\n",
       " 'Country El Venado',\n",
       " 'Country La Tradición',\n",
       " 'Country Loma Verde',\n",
       " 'Country Sociedad Hebraica Argentina',\n",
       " 'Country Village',\n",
       " 'Cruce Castelar',\n",
       " 'Distrito del Diseño',\n",
       " 'Dock Sud',\n",
       " 'Domselaar',\n",
       " 'El Canton Barrio Golf',\n",
       " 'El Casco de Leloir',\n",
       " 'El Ensueño',\n",
       " 'El Jagüel',\n",
       " 'El Paraíso de Guernica Country Club',\n",
       " 'El Pato',\n",
       " 'El Pato Country Club',\n",
       " 'El Peligro',\n",
       " 'El Portal',\n",
       " 'El Zorzal',\n",
       " 'Etcheverry',\n",
       " 'Ex La Ponderosa',\n",
       " 'Fincas de San Vicente',\n",
       " 'Golf Club Argentino',\n",
       " 'Grand Bell',\n",
       " 'Hacoaj Barrio Cerrado',\n",
       " 'Haras del Sol - Barrio Privado',\n",
       " 'Haras del Sur I',\n",
       " 'Hindu Club',\n",
       " 'Ignacio Correas',\n",
       " 'Islas del Canal - Nordelta',\n",
       " 'José Hernández',\n",
       " 'La Agustina',\n",
       " 'La Angélica',\n",
       " 'La Candelaria de Maschwitz',\n",
       " 'La Capilla',\n",
       " 'La Celina Barrio Privado',\n",
       " 'La Escondida de Manzanares',\n",
       " 'La Herradura',\n",
       " 'La Honorata',\n",
       " 'La Matilda',\n",
       " 'La Pilarica',\n",
       " 'La Providencia Resort & Country Club',\n",
       " 'Larena Country Club',\n",
       " 'Las Golondrinas',\n",
       " 'Los Horneros CC',\n",
       " 'Los Pingüinos Country Club',\n",
       " 'Los Robles de Maschwitz',\n",
       " 'Los Sauces Country Club',\n",
       " 'Los Tres Coniles',\n",
       " 'Los Troncos Country Club',\n",
       " 'Manzone',\n",
       " 'Maria del Parque Barrio Privado',\n",
       " 'Mariano Acosta',\n",
       " 'Matheu Grande',\n",
       " 'Medal Country Club',\n",
       " 'Melchor Romero',\n",
       " 'Mi Refugio',\n",
       " 'Ministro Rivadavia',\n",
       " 'Máximo Paz',\n",
       " 'Once de Septiembre',\n",
       " 'Palmers Cottage',\n",
       " 'Pereyra',\n",
       " 'Pilar Golf Country Club',\n",
       " 'Pilar Plaza',\n",
       " 'Princess',\n",
       " 'Puerto Paraná',\n",
       " 'Punta Chica Village',\n",
       " 'Rincon',\n",
       " 'Rincon Del Arca',\n",
       " 'San Eliseo Country, Golf, Hotel & Spa',\n",
       " 'San Francisco Club de Campo',\n",
       " 'San Francisco Solano',\n",
       " 'San Isidro Chico',\n",
       " 'San Jose',\n",
       " 'San José',\n",
       " 'San Juan',\n",
       " 'San Lorenzo',\n",
       " 'San Lucas Village',\n",
       " 'San Miguel Oeste',\n",
       " 'San Miguel de Ghiso',\n",
       " 'Santa Juana',\n",
       " 'Santa Maria',\n",
       " 'Santa Rosa',\n",
       " 'Sourigues',\n",
       " 'St. Patrick Country',\n",
       " 'Terralagos',\n",
       " 'Terravista Barrio Privado',\n",
       " 'Terrazas de Ayres',\n",
       " 'The Boating Club',\n",
       " 'Transradio',\n",
       " 'Uribelarrea',\n",
       " 'Vicente Casares',\n",
       " 'Villa Astolfi',\n",
       " 'Villa Ayacucho',\n",
       " 'Villa Brown',\n",
       " 'Villa Centenario',\n",
       " 'Villa Chacabuco',\n",
       " 'Villa Coronel Zapiola',\n",
       " 'Villa España',\n",
       " 'Villa Fiorito',\n",
       " 'Villa Granaderos De San Martin',\n",
       " 'Villa Monteagudo',\n",
       " 'Villa Numancia',\n",
       " 'Villa Pacheco',\n",
       " 'Villa Pueyrredon',\n",
       " 'Villa Remedios De Escalada',\n",
       " 'Villa Riachuelo',\n",
       " 'Villa San Luis',\n",
       " 'Villa Vatteone',\n",
       " 'Virasoro Village',\n",
       " 'Windbells',\n",
       " 'Zeballos',\n",
       " 'Zona Portuaria',\n",
       " 'coordenadas 34.255511',\n",
       " 'Área 10 \"Nuestra Señora De Fátima\"',\n",
       " 'Área 5 \"Nuestra Señora de Itatí\"',\n",
       " 'Área 6 \"Nuestra Señora de Loreto\"',\n",
       " 'Área 7 \"Nuestra Señora de Luján\"',\n",
       " 'Área de Promoción El Triángulo']"
      ]
     },
     "execution_count": 34,
     "metadata": {},
     "output_type": "execute_result"
    }
   ],
   "source": [
    "list(names)"
   ]
  },
  {
   "cell_type": "code",
   "execution_count": 35,
   "metadata": {},
   "outputs": [],
   "source": [
    "grouped = big_dataset.loc[~big_dataset['place_name'].isin(list(names)), :].groupby('place_name').agg(['mean','count'])\n"
   ]
  },
  {
   "cell_type": "code",
   "execution_count": 24,
   "metadata": {},
   "outputs": [
    {
     "data": {
      "text/html": [
       "<div>\n",
       "<style>\n",
       "    .dataframe thead tr:only-child th {\n",
       "        text-align: right;\n",
       "    }\n",
       "\n",
       "    .dataframe thead th {\n",
       "        text-align: left;\n",
       "    }\n",
       "\n",
       "    .dataframe tbody tr th {\n",
       "        vertical-align: top;\n",
       "    }\n",
       "</style>\n",
       "<table border=\"1\" class=\"dataframe\">\n",
       "  <thead>\n",
       "    <tr style=\"text-align: right;\">\n",
       "      <th></th>\n",
       "      <th>mean</th>\n",
       "      <th>count</th>\n",
       "    </tr>\n",
       "  </thead>\n",
       "  <tbody>\n",
       "    <tr>\n",
       "      <th>count</th>\n",
       "      <td>4.060000e+02</td>\n",
       "      <td>406.000000</td>\n",
       "    </tr>\n",
       "    <tr>\n",
       "      <th>mean</th>\n",
       "      <td>3.155751e+05</td>\n",
       "      <td>1145.135468</td>\n",
       "    </tr>\n",
       "    <tr>\n",
       "      <th>std</th>\n",
       "      <td>1.808612e+05</td>\n",
       "      <td>2713.535937</td>\n",
       "    </tr>\n",
       "    <tr>\n",
       "      <th>min</th>\n",
       "      <td>7.834615e+04</td>\n",
       "      <td>15.000000</td>\n",
       "    </tr>\n",
       "    <tr>\n",
       "      <th>25%</th>\n",
       "      <td>2.002996e+05</td>\n",
       "      <td>37.000000</td>\n",
       "    </tr>\n",
       "    <tr>\n",
       "      <th>50%</th>\n",
       "      <td>2.671185e+05</td>\n",
       "      <td>122.500000</td>\n",
       "    </tr>\n",
       "    <tr>\n",
       "      <th>75%</th>\n",
       "      <td>3.777017e+05</td>\n",
       "      <td>906.750000</td>\n",
       "    </tr>\n",
       "    <tr>\n",
       "      <th>max</th>\n",
       "      <td>1.374849e+06</td>\n",
       "      <td>21635.000000</td>\n",
       "    </tr>\n",
       "  </tbody>\n",
       "</table>\n",
       "</div>"
      ],
      "text/plain": [
       "               mean         count\n",
       "count  4.060000e+02    406.000000\n",
       "mean   3.155751e+05   1145.135468\n",
       "std    1.808612e+05   2713.535937\n",
       "min    7.834615e+04     15.000000\n",
       "25%    2.002996e+05     37.000000\n",
       "50%    2.671185e+05    122.500000\n",
       "75%    3.777017e+05    906.750000\n",
       "max    1.374849e+06  21635.000000"
      ]
     },
     "execution_count": 24,
     "metadata": {},
     "output_type": "execute_result"
    }
   ],
   "source": [
    "grouped.describe()['price']"
   ]
  },
  {
   "cell_type": "code",
   "execution_count": 36,
   "metadata": {},
   "outputs": [],
   "source": [
    "big_dataset_without_outliers = big_dataset.loc[~big_dataset['place_name'].isin(list(names)), :]"
   ]
  },
  {
   "cell_type": "code",
   "execution_count": 37,
   "metadata": {},
   "outputs": [
    {
     "data": {
      "text/plain": [
       "Unnamed: 0                    458834\n",
       "country_name                  122575\n",
       "created_on                    458834\n",
       "currency                      458834\n",
       "description                   300022\n",
       "expenses                       24278\n",
       "extra                         177455\n",
       "floor                          85546\n",
       "geonames_id                   376699\n",
       "id                            122575\n",
       "image_thumbnail               445895\n",
       "lat                           355941\n",
       "lat-lon                       355941\n",
       "lon                           355936\n",
       "operation                     458834\n",
       "place_name                    458769\n",
       "place_with_parent_names       458834\n",
       "price                         458834\n",
       "price_aprox_local_currency    458834\n",
       "price_aprox_usd               458834\n",
       "price_per_m2                  135063\n",
       "price_usd_per_m2              299121\n",
       "properati_url                 458834\n",
       "property_type                 458834\n",
       "rooms                         270158\n",
       "state_name                    122575\n",
       "surface_covered_in_m2         137294\n",
       "surface_in_m2                 219390\n",
       "surface_total_in_m2           106270\n",
       "title                         300030\n",
       "dtype: int64"
      ]
     },
     "execution_count": 37,
     "metadata": {},
     "output_type": "execute_result"
    }
   ],
   "source": [
    "big_dataset_without_outliers.count()"
   ]
  },
  {
   "cell_type": "code",
   "execution_count": 39,
   "metadata": {},
   "outputs": [
    {
     "name": "stderr",
     "output_type": "stream",
     "text": [
      "IOPub data rate exceeded.\n",
      "The notebook server will temporarily stop sending output\n",
      "to the client in order to avoid crashing it.\n",
      "To change this limit, set the config variable\n",
      "`--NotebookApp.iopub_data_rate_limit`.\n"
     ]
    }
   ],
   "source": [
    "sorted(big_dataset_without_outliers.groupby('place_name'))"
   ]
  }
 ],
 "metadata": {
  "kernelspec": {
   "display_name": "Python 3",
   "language": "python",
   "name": "python3"
  },
  "language_info": {
   "codemirror_mode": {
    "name": "ipython",
    "version": 3
   },
   "file_extension": ".py",
   "mimetype": "text/x-python",
   "name": "python",
   "nbconvert_exporter": "python",
   "pygments_lexer": "ipython3",
   "version": "3.6.1"
  }
 },
 "nbformat": 4,
 "nbformat_minor": 2
}
